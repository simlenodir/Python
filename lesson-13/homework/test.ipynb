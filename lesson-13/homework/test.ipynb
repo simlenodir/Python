{
 "cells": [
  {
   "cell_type": "markdown",
   "id": "76910101",
   "metadata": {},
   "source": [
    "## Date Time\n"
   ]
  },
  {
   "cell_type": "code",
   "execution_count": null,
   "id": "312c31ab",
   "metadata": {},
   "outputs": [
    {
     "name": "stdout",
     "output_type": "stream",
     "text": [
      "Your age:31 month: 7, day: 24\n",
      "7\n"
     ]
    }
   ],
   "source": [
    "# Bismilah\n",
    "# Task 1\n",
    "from datetime import time, date, datetime\n",
    "\n",
    "birthday = input('Enter your birthday as \"08-29-1993\": ')\n",
    "birth_date = datetime.strptime(birthday, \"%d-%m-%Y\")\n",
    "today = datetime.today()\n",
    "age = today.year - birth_date.year\n",
    "month = today.month - birth_date.month\n",
    "day = today.day - birth_date.day\n",
    "\n",
    "if(birth_date.month, birth_date.day) > (today.month, today.day):\n",
    "    age -= 1\n",
    "if(month < 0):\n",
    "    month += 12\n",
    "\n",
    "if day < 0:\n",
    "    day = 31 + day\n",
    "    month -= 1\n",
    "\n",
    "\n",
    "print(f'Your age:{age} month: {month}, day: {day}')\n",
    "print(month)"
   ]
  },
  {
   "cell_type": "code",
   "execution_count": null,
   "id": "0cde97e2",
   "metadata": {},
   "outputs": [
    {
     "name": "stdout",
     "output_type": "stream",
     "text": [
      "Your age: 31, month: 7, day: 24\n"
     ]
    }
   ],
   "source": [
    "# Task 1 2-way solution\n",
    "# pip install python-dateutil\n",
    "\n",
    "from dateutil.relativedelta import relativedelta\n",
    "\n",
    "birth_date = input(\"Enter your birthday like (YYYY-MM-DD): \")\n",
    "try:\n",
    "    birth_day = datetime.strptime(birth_date, \"%Y-%m-%d\").date()\n",
    "    today = datetime.today().date()\n",
    "\n",
    "    age = relativedelta(today, birth_day)\n",
    "\n",
    "    print(f\"Your age: {age.years}, month: {age.months}, day: {age.days}\")\n",
    "except ValueError:\n",
    "    print(\"Invalid date format. Please use YYYY-MM-DD.\")"
   ]
  },
  {
   "cell_type": "code",
   "execution_count": null,
   "id": "f4ae7e71",
   "metadata": {},
   "outputs": [
    {
     "name": "stdout",
     "output_type": "stream",
     "text": [
      "Your next birthay comes after month: 4, after day: 7\n"
     ]
    }
   ],
   "source": [
    "# Task 2 Calculate next birthday\n",
    "birth_date = input(\"Enter your birthday like (YYYY-MM-DD): \")\n",
    "try:\n",
    "    birth_day = datetime.strptime(birth_date, \"%Y-%m-%d\").date()\n",
    "    today = datetime.today().date()\n",
    "\n",
    "    last_month = birth_day.month - today.month\n",
    "    last_day = birth_day.day - today.day\n",
    "    \n",
    "    if last_month < 0:\n",
    "        last_month = 12 + last_month\n",
    "    if last_day < 0:\n",
    "        last_day += 30\n",
    "\n",
    "    print(f\"Your next birthay comes after month: {last_month}, after day: {last_day}\")\n",
    "except ValueError:\n",
    "    print(\"Invalid date format. Please use YYYY-MM-DD.\")"
   ]
  },
  {
   "cell_type": "code",
   "execution_count": 31,
   "id": "d89bc3d1",
   "metadata": {},
   "outputs": [
    {
     "name": "stdout",
     "output_type": "stream",
     "text": [
      "2025-08-29\n",
      "Your next birthay comes after month: 4, after day: 7\n"
     ]
    }
   ],
   "source": [
    "# Task 2 2-way of solution\n",
    "birth_date = input(\"Enter your birthday like (YYYY-MM-DD): \")\n",
    "try:\n",
    "    birth_day = datetime.strptime(birth_date, \"%Y-%m-%d\").date()\n",
    "    today = date.today()\n",
    "\n",
    "    next_birthday = birth_day.replace(year=today.year)\n",
    "    if(next_birthday) < today:\n",
    "        next_birthday = birth_day.replace(year=today.year + 1)\n",
    "    \n",
    "    time_remaining = relativedelta(next_birthday,  today)\n",
    "    print(next_birthday)\n",
    "    \n",
    "    print(f\"Your next birthay comes after month: {time_remaining.months}, after day: {time_remaining.days}\")\n",
    "except ValueError:\n",
    "    print(\"Invalid date format. Please use YYYY-MM-DD.\")"
   ]
  },
  {
   "cell_type": "code",
   "execution_count": 34,
   "id": "f22e454a",
   "metadata": {},
   "outputs": [
    {
     "name": "stdout",
     "output_type": "stream",
     "text": [
      "The meeting will end at: 2025-04-22 17:15\n"
     ]
    }
   ],
   "source": [
    "from datetime import datetime, timedelta\n",
    "\n",
    "# Get current date and time from the user\n",
    "current_dt_str = input(\"Enter the current date and time (YYYY-MM-DD HH:MM): \")\n",
    "\n",
    "try:\n",
    "    current_dt = datetime.strptime(current_dt_str, \"%Y-%m-%d %H:%M\")\n",
    "\n",
    "    # Get duration from user\n",
    "    hours = int(input(\"Enter meeting duration - Hours: \"))\n",
    "    minutes = int(input(\"Enter meeting duration - Minutes: \"))\n",
    "\n",
    "    # Calculate end time\n",
    "    duration = timedelta(hours=hours, minutes=minutes)\n",
    "    end_time = current_dt + duration\n",
    "\n",
    "    print(f\"The meeting will end at: {end_time.strftime('%Y-%m-%d %H:%M')}\")\n",
    "except ValueError:\n",
    "    print(\"Invalid input. Please use the correct formats.\")\n"
   ]
  },
  {
   "cell_type": "code",
   "execution_count": 1,
   "id": "7a5a5c45",
   "metadata": {},
   "outputs": [
    {
     "name": "stdout",
     "output_type": "stream",
     "text": [
      "Timezone Converter\n",
      "------------------\n",
      "\n",
      "Error: time data '20225-04-23 08:32:22' does not match format '%Y-%m-%d %H:%M:%S'\n",
      "Please check your input format and timezone names.\n"
     ]
    }
   ],
   "source": [
    "from datetime import datetime\n",
    "import pytz\n",
    "\n",
    "def timezone_converter():\n",
    "    print(\"Timezone Converter\")\n",
    "    print(\"------------------\")\n",
    "    \n",
    "    # Get user input\n",
    "    date_str = input(\"Enter date (YYYY-MM-DD): \")\n",
    "    time_str = input(\"Enter time (HH:MM:SS): \")\n",
    "    original_timezone_str = input(\"Enter your current timezone (e.g., America/New_York, Europe/London): \")\n",
    "    target_timezone_str = input(\"Enter target timezone (e.g., Asia/Tokyo, Australia/Sydney): \")\n",
    "    \n",
    "    try:\n",
    "        # Combine date and time\n",
    "        datetime_str = f\"{date_str} {time_str}\"\n",
    "        naive_datetime = datetime.strptime(datetime_str, \"%Y-%m-%d %H:%M:%S\")\n",
    "        \n",
    "        # Get timezone objects\n",
    "        original_timezone = pytz.timezone(original_timezone_str)\n",
    "        target_timezone = pytz.timezone(target_timezone_str)\n",
    "        \n",
    "        # Localize the datetime to the original timezone\n",
    "        localized_datetime = original_timezone.localize(naive_datetime)\n",
    "        \n",
    "        # Convert to target timezone\n",
    "        target_datetime = localized_datetime.astimezone(target_timezone)\n",
    "        \n",
    "        # Format the output\n",
    "        print(\"\\nConversion Result:\")\n",
    "        print(f\"Original time: {localized_datetime.strftime('%Y-%m-%d %H:%M:%S %Z%z')}\")\n",
    "        print(f\"Converted time: {target_datetime.strftime('%Y-%m-%d %H:%M:%S %Z%z')}\")\n",
    "        \n",
    "    except ValueError as e:\n",
    "        print(f\"\\nError: {e}\")\n",
    "        print(\"Please check your input format and timezone names.\")\n",
    "    except pytz.exceptions.UnknownTimeZoneError:\n",
    "        print(\"\\nError: Unknown timezone. Please use the format 'Continent/City' (e.g., 'America/New_York')\")\n",
    "\n",
    "if __name__ == \"__main__\":\n",
    "    timezone_converter()"
   ]
  },
  {
   "cell_type": "code",
   "execution_count": null,
   "id": "a8ef506a",
   "metadata": {},
   "outputs": [
    {
     "name": "stdout",
     "output_type": "stream",
     "text": [
      "The entered time is not in the future.\n",
      "\n",
      "Countdown started:\n",
      "Countdown complete!\n"
     ]
    },
    {
     "ename": "",
     "evalue": "",
     "output_type": "error",
     "traceback": [
      "\u001b[1;31mThe Kernel crashed while executing code in the current cell or a previous cell. \n",
      "\u001b[1;31mPlease review the code in the cell(s) to identify a possible cause of the failure. \n",
      "\u001b[1;31mClick <a href='https://aka.ms/vscodeJupyterKernelCrash'>here</a> for more info. \n",
      "\u001b[1;31mView Jupyter <a href='command:jupyter.viewOutput'>log</a> for further details."
     ]
    }
   ],
   "source": [
    "import time\n",
    "from datetime import datetime\n",
    "\n",
    "# Ask user to enter the future date and time\n",
    "user_input = input(\"Enter the future date and time (YYYY-MM-DD HH:MM:SS): \")\n",
    "\n",
    "# Convert the input string into a datetime object\n",
    "try:\n",
    "    future_time = datetime.strptime(user_input, \"%Y-%m-%d %H:%M:%S\")\n",
    "except ValueError:\n",
    "    print(\"Invalid format. Please use YYYY-MM-DD HH:MM:SS\")\n",
    "    exit()\n",
    "\n",
    "# Check if the entered time is in the future\n",
    "if future_time <= datetime.now():\n",
    "    print(\"The entered time is not in the future.\")\n",
    "    exit()\n",
    "\n",
    "# Countdown loop\n",
    "print(\"\\nCountdown started:\")\n",
    "while True:\n",
    "    now = datetime.now()\n",
    "    remaining = future_time - now\n",
    "    \n",
    "    if remaining.total_seconds() <= 0:\n",
    "        print(\"Countdown complete!\")\n",
    "        break\n",
    "\n",
    "    # Format remaining time\n",
    "    days = remaining.days\n",
    "    hours, remainder = divmod(remaining.seconds, 3600)\n",
    "    minutes, seconds = divmod(remainder, 60)\n",
    "    \n",
    "    print(f\"\\rTime remaining: {days}d {hours:02}h {minutes:02}m {seconds:02}s\", end=\"\")\n",
    "    time.sleep(1)\n"
   ]
  },
  {
   "cell_type": "code",
   "execution_count": 3,
   "id": "32cebbe2",
   "metadata": {},
   "outputs": [
    {
     "name": "stdout",
     "output_type": "stream",
     "text": [
      "Valid email address.\n"
     ]
    }
   ],
   "source": [
    "import re\n",
    "\n",
    "# Regular expression pattern for a basic email validation\n",
    "email_pattern = r'^[a-zA-Z0-9._%+-]+@[a-zA-Z0-9.-]+\\.[a-zA-Z]{2,}$'\n",
    "\n",
    "# Ask the user to input an email address\n",
    "email = input(\"Enter an email address to validate: \")\n",
    "\n",
    "# Validate using regex\n",
    "if re.match(email_pattern, email):\n",
    "    print(\"Valid email address.\")\n",
    "else:\n",
    "    print(\"Invalid email address.\")\n"
   ]
  },
  {
   "cell_type": "code",
   "execution_count": 4,
   "id": "4da42074",
   "metadata": {},
   "outputs": [
    {
     "name": "stdout",
     "output_type": "stream",
     "text": [
      "Formatted number: (99) 819-44-95\n"
     ]
    }
   ],
   "source": [
    "def format_phone_number(phone):\n",
    "    # Remove any non-digit characters\n",
    "    digits = ''.join(filter(str.isdigit, phone))\n",
    "\n",
    "    if len(digits) != 9:\n",
    "        return \"Invalid phone number. Please enter exactly 9 digits.\"\n",
    "\n",
    "    # Format: (12) 345-67-89\n",
    "    formatted = f\"({digits[0:2]}) {digits[2:5]}-{digits[5:7]}-{digits[7:9]}\"\n",
    "    return formatted\n",
    "\n",
    "# Get user input\n",
    "user_input = input(\"Enter a 9-digit phone number: \")\n",
    "formatted_number = format_phone_number(user_input)\n",
    "\n",
    "print(\"Formatted number:\", formatted_number)\n"
   ]
  },
  {
   "cell_type": "code",
   "execution_count": 6,
   "id": "4419d37d",
   "metadata": {},
   "outputs": [
    {
     "name": "stdout",
     "output_type": "stream",
     "text": [
      "\n",
      "Password Strength Check:\n",
      "✔ Minimum length (8): OK\n",
      "✔ At least one uppercase letter: OK\n",
      "✔ At least one lowercase letter: OK\n",
      "✔ At least one digit: OK\n",
      "\n",
      "✅ Your password is strong.\n"
     ]
    }
   ],
   "source": [
    "import re\n",
    "\n",
    "def check_password_strength(password):\n",
    "    # Criteria checks\n",
    "    length_ok = len(password) >= 8\n",
    "    has_upper = re.search(r'[A-Z]', password) is not None\n",
    "    has_lower = re.search(r'[a-z]', password) is not None\n",
    "    has_digit = re.search(r'\\d', password) is not None\n",
    "\n",
    "    print(\"\\nPassword Strength Check:\")\n",
    "    print(f\"✔ Minimum length (8): {'OK' if length_ok else 'Missing'}\")\n",
    "    print(f\"✔ At least one uppercase letter: {'OK' if has_upper else 'Missing'}\")\n",
    "    print(f\"✔ At least one lowercase letter: {'OK' if has_lower else 'Missing'}\")\n",
    "    print(f\"✔ At least one digit: {'OK' if has_digit else 'Missing'}\")\n",
    "\n",
    "    if all([length_ok, has_upper, has_lower, has_digit]):\n",
    "        print(\"\\n✅ Your password is strong.\")\n",
    "    else:\n",
    "        print(\"\\n❌ Your password is weak. Please improve it.\")\n",
    "\n",
    "# Ask the user for a password\n",
    "user_password = input(\"Enter a password to check its strength: \")\n",
    "check_password_strength(user_password)\n"
   ]
  },
  {
   "cell_type": "code",
   "execution_count": 6,
   "id": "48bfea26",
   "metadata": {},
   "outputs": [
    {
     "name": "stdout",
     "output_type": "stream",
     "text": [
      "New york time: 2025-04-23 01:45:00.499522-04:00\n",
      "London time: 2025-04-23 06:45:00.499979+01:00\n",
      "America/New_York 2025-04-23 10:45:00.499191 None\n"
     ]
    }
   ],
   "source": [
    "local_time = datetime.now()\n",
    "tz_America = pytz.timezone(\"America/New_york\")\n",
    "London = pytz.timezone(\"Europe/London\")\n",
    "new_york = print(f\"New york time: {datetime.now(tz_America)}\")\n",
    "london = print(f\"London time: {datetime.now(London)}\")\n",
    "print(tz_America, local_time, london)"
   ]
  },
  {
   "cell_type": "code",
   "execution_count": 11,
   "id": "600e9cff",
   "metadata": {},
   "outputs": [
    {
     "name": "stdout",
     "output_type": "stream",
     "text": [
      "1993-08-29 00:00:00\n"
     ]
    }
   ],
   "source": [
    "from datetime import datetime\n",
    "\n",
    "user_input_date = input(\"Enter your birthday as dd/mm/yyyy:\")\n",
    "birth_date = datetime.strptime(user_input_date, \"%d/%m/%Y\")\n",
    "\n",
    "print(birth_date)"
   ]
  },
  {
   "cell_type": "markdown",
   "id": "21ac145c",
   "metadata": {},
   "source": [
    "## ReGex"
   ]
  },
  {
   "cell_type": "code",
   "execution_count": 43,
   "id": "4f3c7525",
   "metadata": {},
   "outputs": [
    {
     "name": "stdout",
     "output_type": "stream",
     "text": [
      "<re.Match object; span=(0, 9), match='998194495'>\n"
     ]
    }
   ],
   "source": [
    "import re\n",
    "\n",
    "message = 'Hello'\n",
    "is_match = re.match('Hello', message)\n",
    "\n",
    "msg = 'sss'\n",
    "is_match = re.match('[^abc]*', msg)\n",
    "\n",
    "name = 'Oygul'\n",
    "is_match = re.match('^O.*', name)\n",
    "\n",
    "name1 = 'Akmal'\n",
    "is_match = re.match('.*l$', name1)\n",
    "\n",
    "number = '998194495'\n",
    "is_match = re.match(r'\\d{2}\\d{3}\\d{2}\\d{2}', number)\n",
    "\n",
    "print(is_match) "
   ]
  },
  {
   "cell_type": "code",
   "execution_count": null,
   "id": "597b02c3",
   "metadata": {},
   "outputs": [],
   "source": [
    "import re\n",
    "\n",
    "# Sample text to search in\n",
    "sample_text = \"\"\"\n",
    "Python is a powerful programming language. Python can be used for web development,\n",
    "data analysis, artificial intelligence, and more. Many developers love Python for its simplicity.\n",
    "\"\"\"\n",
    "\n",
    "# Ask the user for the word to search\n",
    "word = input(\"Enter the word to search for: \")\n",
    "\n",
    "# Use regular expression for whole word matching, case-insensitive\n",
    "pattern = r'\\b' + re.escape(word) + r'\\b'\n",
    "matches = list(re.finditer(pattern, sample_text, flags=re.IGNORECASE))\n",
    "\n",
    "# Show results\n",
    "if matches:\n",
    "    print(f\"Found '{word}' {len(matches)} time(s):\")\n",
    "    for match in matches:\n",
    "        print(f\"- At index {match.start()}: '{match.group()}'\")\n",
    "else:\n",
    "    print(f\"No occurrences of '{word}' found.\")\n",
    "\n"
   ]
  },
  {
   "cell_type": "code",
   "execution_count": 52,
   "id": "e4dc4c50",
   "metadata": {},
   "outputs": [
    {
     "name": "stdout",
     "output_type": "stream",
     "text": [
      "Dates found in the text: \n",
      " - 12/05/2024\n",
      " - 15-06-2024\n",
      " - 2025-04-23\n"
     ]
    }
   ],
   "source": [
    "# Finding dates from text\n",
    "import re \n",
    "\n",
    "text = \"\"\" \n",
    "    Our meetings are scheduled on 12/05/2024, 15-06-2024 and 2025-04-23.\n",
    "\"\"\"\n",
    "\n",
    "# Regular expression to match dates\n",
    "date_pattern = r'\\b(?:\\d{1,2}[/-]\\d{1,2}[/-]\\d{2,4}|\\d{4}-\\d{1,2}-\\d{1,2})\\b'\n",
    "\n",
    "# Find all matching dates\n",
    "dates = re.findall(date_pattern, text)\n",
    "\n",
    "# Print results\n",
    "if dates:\n",
    "    print(\"Dates found in the text: \")\n",
    "    for date in dates:\n",
    "        print(f\" - {date}\")\n",
    "else:\n",
    "    print(\"No dates found in the text\")\n",
    "\n"
   ]
  }
 ],
 "metadata": {
  "kernelspec": {
   "display_name": "Python 3",
   "language": "python",
   "name": "python3"
  },
  "language_info": {
   "codemirror_mode": {
    "name": "ipython",
    "version": 3
   },
   "file_extension": ".py",
   "mimetype": "text/x-python",
   "name": "python",
   "nbconvert_exporter": "python",
   "pygments_lexer": "ipython3",
   "version": "3.13.2"
  }
 },
 "nbformat": 4,
 "nbformat_minor": 5
}
