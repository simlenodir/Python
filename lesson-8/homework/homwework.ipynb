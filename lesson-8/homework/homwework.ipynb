{
 "cells": [
  {
   "cell_type": "code",
   "execution_count": null,
   "id": "64334aa2",
   "metadata": {},
   "outputs": [
    {
     "name": "stdout",
     "output_type": "stream",
     "text": [
      "You can`t divide by zero\n"
     ]
    }
   ],
   "source": [
    "# Task 1\n",
    "try:\n",
    "    num = int(input('Enter any number: '))\n",
    "    result = 10 / num\n",
    "    print(f'Result is: {result}')\n",
    "except ZeroDivisionError:\n",
    "    print('You can`t divide by zero')    \n",
    "    "
   ]
  },
  {
   "cell_type": "code",
   "execution_count": null,
   "id": "a088bad2",
   "metadata": {},
   "outputs": [
    {
     "name": "stdout",
     "output_type": "stream",
     "text": [
      "Error: Invalid input: Not an integer.\n"
     ]
    }
   ],
   "source": [
    "# Task 2\n",
    "\n",
    "def user_digits(): \n",
    "     num = input('Enter any number: ')\n",
    "     if not num.lstrip('-').isdigit():\n",
    "          raise ValueError(\"Invalid input: Not an integer.\")\n",
    "     return int(num)\n",
    "try:\n",
    "   number = user_digits()\n",
    "   print(f'Your number is {number}')\n",
    "except ValueError as e:\n",
    "    print(\"Error:\", e)"
   ]
  },
  {
   "cell_type": "code",
   "execution_count": null,
   "id": "26dbc0b5",
   "metadata": {},
   "outputs": [
    {
     "name": "stdout",
     "output_type": "stream",
     "text": [
      "File not found\n"
     ]
    }
   ],
   "source": [
    "# Task 3\n",
    "import csv\n",
    "\n",
    "try:\n",
    "     with open('student.csv', 'r') as file:\n",
    "         students = csv.reader(file)\n",
    "         for row in students:\n",
    "              print(row)\n",
    "except FileNotFoundError:\n",
    "     print('File not found')    \n"
   ]
  },
  {
   "cell_type": "code",
   "execution_count": null,
   "id": "641875c0",
   "metadata": {},
   "outputs": [
    {
     "name": "stdout",
     "output_type": "stream",
     "text": [
      "['1', '2']\n",
      "12 12\n",
      "Sum of Your 24\n"
     ]
    }
   ],
   "source": [
    "# Task 4\n",
    "def user_digits1():\n",
    "    num = input('Enter first number: ')\n",
    "    num1 = input('Enter first number: ')\n",
    "\n",
    "    print(list(num))\n",
    "    result = 0\n",
    "    print(num1, num)\n",
    "    if not num.replace('.', '', 1).isdigit() and num.replace('.', '', 1).isdigit():\n",
    "        raise ValueError('Numbers are must be number')\n",
    "    num = int(num)\n",
    "    num1 = int(num1)\n",
    "    result = num + num1\n",
    "    return result\n",
    "try:\n",
    "    number = user_digits1()\n",
    "    print(f'Sum of Your {number}')\n",
    "except TypeError as e:\n",
    "    print(\"Error:\", e)    "
   ]
  },
  {
   "cell_type": "code",
   "execution_count": 16,
   "id": "b1a7237f",
   "metadata": {},
   "outputs": [
    {
     "name": "stdout",
     "output_type": "stream",
     "text": [
      "ok\n",
      "Error:  You have not permission issue\n"
     ]
    }
   ],
   "source": [
    "# Task 5\n",
    "try:\n",
    "    with open('students.csv', 'r') as file:\n",
    "        a =  file.read()\n",
    "        if a :\n",
    "           print(\"ok\")\n",
    "        raise PermissionError('You have not permission issue')\n",
    "except PermissionError as e:\n",
    "    print('Error: ', e)\n",
    "except FileNotFoundError as e:\n",
    "    print('File not exists')"
   ]
  },
  {
   "cell_type": "code",
   "execution_count": null,
   "id": "0123382a",
   "metadata": {},
   "outputs": [
    {
     "name": "stdout",
     "output_type": "stream",
     "text": [
      "index is out of range\n"
     ]
    }
   ],
   "source": [
    "# Task 6\n",
    "try:\n",
    "    index = 12\n",
    "    list1 = [1, 3, 4, 5,6 , 3]\n",
    "    item = list1[index]\n",
    "except IndexError: \n",
    "    print('index is out of range')"
   ]
  },
  {
   "cell_type": "code",
   "execution_count": 24,
   "id": "dc1df8f3",
   "metadata": {},
   "outputs": [
    {
     "name": "stdout",
     "output_type": "stream",
     "text": [
      "You entered the number: 12\n"
     ]
    }
   ],
   "source": [
    "# Task 7\n",
    "\n",
    "try:\n",
    "    user_input = input(\"Please enter a number: \")\n",
    "    number = int(user_input)\n",
    "    print(f\"You entered the number: {number}\")\n",
    "except KeyboardInterrupt:\n",
    "    print(\"\\nInput was interrupted by the user. Exiting...\")\n",
    "except ValueError:\n",
    "    print(\"That's not a valid number!\")\n"
   ]
  },
  {
   "cell_type": "code",
   "execution_count": null,
   "id": "fbe28a6c",
   "metadata": {},
   "outputs": [
    {
     "name": "stdout",
     "output_type": "stream",
     "text": [
      "The result 1e+236 / 10.0 is 1e+235\n"
     ]
    }
   ],
   "source": [
    "# Task 8\n",
    "try:\n",
    "    numerator = float(input('Enter numerator number: '))\n",
    "    dominator = float(input('Enter dominator number: '))\n",
    "    result = numerator / dominator\n",
    "    print(f'The result {numerator} / {dominator} is {result}')\n",
    "except ArithmeticError:\n",
    "    print('An arithmetic error occurred. Please check the inputs and try again.')\n",
    "except ZeroDivisionError:\n",
    "    print(\"Error: Cannot divide by zero.\")\n",
    "except ValueError:\n",
    "    print('Invalid input. Please enter numeric values')"
   ]
  },
  {
   "cell_type": "code",
   "execution_count": null,
   "id": "84ae2ea4",
   "metadata": {},
   "outputs": [
    {
     "name": "stdout",
     "output_type": "stream",
     "text": [
      "こんにちは (Japanese)\\n\n",
      "\n"
     ]
    }
   ],
   "source": [
    "# Task 9\n",
    "try:\n",
    "    with open('students.csv', 'r', encoding='utf-8') as file:\n",
    "        content = file.read()\n",
    "        print(content)\n",
    "except UnicodeDecodeError: \n",
    "    print('Unexpected unicode error')"
   ]
  },
  {
   "cell_type": "code",
   "execution_count": null,
   "id": "5ac2fa68",
   "metadata": {},
   "outputs": [
    {
     "name": "stdout",
     "output_type": "stream",
     "text": [
      "String not has this atribute\n"
     ]
    }
   ],
   "source": [
    "# Task 10\n",
    "try:\n",
    "    name = 'Nodir'\n",
    "    name.pop()\n",
    "    print(name)    \n",
    "except AttributeError:\n",
    "    print('String not has this atribute')"
   ]
  },
  {
   "cell_type": "code",
   "execution_count": null,
   "id": "5a5c7280",
   "metadata": {},
   "outputs": [
    {
     "name": "stdout",
     "output_type": "stream",
     "text": [
      "File is not exist\n"
     ]
    }
   ],
   "source": [
    "# Task 1\n",
    "try:\n",
    "    with open('students.csv', 'r') as file:\n",
    "        content = file.read()\n",
    "        print(content)\n",
    "except FileNotFoundError:\n",
    "    print('File is not exist')"
   ]
  },
  {
   "cell_type": "code",
   "execution_count": null,
   "id": "3f6a2450",
   "metadata": {},
   "outputs": [],
   "source": [
    "# Task 2\n",
    "try:\n",
    "    with open('students.csv', 'r') as file:\n",
    "        content = file.readlines(5)\n",
    "        print(content)\n",
    "except FileNotFoundError:\n",
    "    print('File is not exist')"
   ]
  },
  {
   "cell_type": "code",
   "execution_count": 36,
   "id": "9511fcb0",
   "metadata": {},
   "outputs": [
    {
     "name": "stdout",
     "output_type": "stream",
     "text": [
      "File is not exist\n"
     ]
    }
   ],
   "source": [
    "# Task 3\n",
    "try:\n",
    "    text = 'File is not exist'\n",
    "    with open('students.csv', 'a') as file:\n",
    "         file.write(text + '\\n')\n",
    "    print(text)\n",
    "except FileNotFoundError:\n",
    "    print('File is not exist')"
   ]
  },
  {
   "cell_type": "code",
   "execution_count": 37,
   "id": "ec576924",
   "metadata": {},
   "outputs": [
    {
     "name": "stdout",
     "output_type": "stream",
     "text": [
      "6\n",
      "48\n"
     ]
    }
   ],
   "source": [
    "# Task 4\n",
    "def read_last_n_lines(fileName, n):\n",
    "    try:\n",
    "        with open(fileName, 'r') as file:\n",
    "            lines = file.readlines()\n",
    "            last_lines = lines[-n:]\n",
    "            for line in last_lines:\n",
    "                print(line.strip())\n",
    "    except FileNotFoundError:\n",
    "        print('File is not found')\n",
    "    \n",
    "read_last_n_lines('students.csv', 2)"
   ]
  },
  {
   "cell_type": "code",
   "execution_count": 39,
   "id": "e50a3f34",
   "metadata": {},
   "outputs": [
    {
     "name": "stdout",
     "output_type": "stream",
     "text": [
      "['гЃ“г‚“гЃ«гЃЎгЃЇ (Japanese)\\\\n', 'asldfjaadhFile is not exist', 'asdghakldsfj', 'sdfhadofhlfsj', '1654981616515', '654', '6', '48']\n"
     ]
    }
   ],
   "source": [
    "# Task 5\n",
    "try:\n",
    "    with open('students.csv', 'r') as file:\n",
    "        lines = [line.strip() for line in file ]\n",
    "        print(lines)\n",
    "except FileNotFoundError:\n",
    "        print('File is not found')"
   ]
  },
  {
   "cell_type": "code",
   "execution_count": null,
   "id": "116b1aed",
   "metadata": {},
   "outputs": [
    {
     "name": "stdout",
     "output_type": "stream",
     "text": [
      "['гЃ“г‚“гЃ«гЃЎгЃЇ (Japanese)\\\\n\\n', 'asldfjaadhFile is not exist\\n', 'asdghakldsfj\\n', 'sdfhadofhlfsj\\n', '1654981616515\\n', '654\\n', '6\\n', '48\\n']\n"
     ]
    }
   ],
   "source": [
    "# Task 6\n",
    "try:\n",
    "    with open('students.csv', 'r') as file:\n",
    "        lines = file.readlines()\n",
    "        print(lines)\n",
    "except FileNotFoundError:\n",
    "        print('File is not found')"
   ]
  },
  {
   "cell_type": "code",
   "execution_count": null,
   "id": "adca53b1",
   "metadata": {},
   "outputs": [],
   "source": [
    "import re\n",
    "from collections import defaultdict\n",
    "\n",
    "count_words = defaultdict(int)\n",
    "\n",
    "try:\n",
    "    with open('python.txt', 'r') as file:\n",
    "        text = file.read()\n",
    "\n",
    "        # clear and split words\n",
    "        words = re.findall(r'\\b[a-zA-Z]+\\b', text)\n",
    "        # print(words)\n",
    "        \n",
    "        for word in words:\n",
    "            count_words[word.lower()] += 1\n",
    "        \n",
    "        # Store in dict\n",
    "        for word, count in count_words.items():\n",
    "            print(f'{word}: {count}')\n",
    "\n",
    "except FileNotFoundError:\n",
    "    print('File is not exist')"
   ]
  },
  {
   "cell_type": "code",
   "execution_count": null,
   "id": "a5f405dd",
   "metadata": {},
   "outputs": [
    {
     "name": "stdout",
     "output_type": "stream",
     "text": [
      "['гЃ“г‚“гЃ«гЃЎгЃЇ (Japanese)\\\\n', 'asldfjaadhFile is not exist', 'asdghakldsfj', 'sdfhadofhlfsj', '1654981616515', '654', '6', '48']\n"
     ]
    }
   ],
   "source": [
    "# Task 7 \n",
    "try:\n",
    "    with open('students.csv', 'r') as file:\n",
    "        # lines_array = file.readlines()\n",
    "        lines_array = [line.strip() for line in file]   \n",
    "        print(lines_array)\n",
    "except FileNotFoundError:\n",
    "    print('File is not exist')\n"
   ]
  },
  {
   "cell_type": "code",
   "execution_count": 29,
   "id": "23599c74",
   "metadata": {},
   "outputs": [
    {
     "name": "stdout",
     "output_type": "stream",
     "text": [
      "asldfjaadhFile\n"
     ]
    }
   ],
   "source": [
    "# Task 8\n",
    "import re\n",
    "from collections import defaultdict\n",
    "\n",
    "try:\n",
    "    longest_word = ''\n",
    "    with open('students.csv', 'r') as file:\n",
    "        text = file.read()\n",
    "        # lines_array = [line.strip() for line in file]   \n",
    "\n",
    "        words = re.findall(r'\\b[a-zA-Z]+\\b', text)\n",
    "        for word in words:\n",
    "            if len(word) > len(longest_word):\n",
    "                longest_word = word\n",
    "        print(longest_word)\n",
    "            \n",
    "except FileNotFoundError:\n",
    "    print('File is not exist')\n"
   ]
  },
  {
   "cell_type": "code",
   "execution_count": null,
   "id": "93b611bb",
   "metadata": {},
   "outputs": [
    {
     "name": "stdout",
     "output_type": "stream",
     "text": [
      "21\n",
      "21\n"
     ]
    }
   ],
   "source": [
    "# Task 9\n",
    "try: \n",
    "    count = 0\n",
    "\n",
    "    with open('python.txt', 'r') as file:\n",
    "        text = file.readlines()\n",
    "        # first way solution\n",
    "        print(len(text))\n",
    "\n",
    "        # second way solution\n",
    "        for i in text:\n",
    "            count += 1\n",
    "        print(count) \n",
    "        # lines_array = [line.strip() for line in text] \n",
    "        # print(lines_array)\n",
    "\n",
    "except FileNotFoundError:\n",
    "    print('File doesnt exist')"
   ]
  },
  {
   "cell_type": "code",
   "execution_count": null,
   "id": "56489244",
   "metadata": {},
   "outputs": [
    {
     "name": "stdout",
     "output_type": "stream",
     "text": [
      "a\n",
      "b\n",
      "s\n",
      "8\n",
      " \n",
      "/\n",
      "\n",
      "\n",
      "7\n",
      "File size: 8 bytes\n"
     ]
    }
   ],
   "source": [
    "# Task 11\n",
    "# this my way solution\n",
    "# try:\n",
    "#     count = 0\n",
    "#     # Read file\n",
    "#     with open('students.csv', 'r') as file:\n",
    "#         text = file.read()\n",
    "\n",
    "#     for char in text:\n",
    "#         print(char)\n",
    "#         count += 1\n",
    "#     print(count)\n",
    "\n",
    "# except FileNotFoundError:\n",
    "#     print('File doesnt exist')\n",
    "import os\n",
    "\n",
    "try:\n",
    "    file_path = 'students.csv'\n",
    "    size = os.path.getsize(file_path)\n",
    "    print(f\"File size: {size} bytes\")\n",
    "\n",
    "except FileNotFoundError:\n",
    "    print(\"File doesn't exist\")\n"
   ]
  },
  {
   "cell_type": "code",
   "execution_count": null,
   "id": "f96a982b",
   "metadata": {},
   "outputs": [],
   "source": [
    "import string\n",
    "with open(\"python.txt\", 'r', encoding=\"utf-8\") as file:\n",
    "    text = file.read().lower()\n",
    "    dic = {}\n",
    "    for i in text:\n",
    "        if i in string.punctuation:\n",
    "            text = text.replace(i, \" \")\n",
    "    words = text.split()\n",
    "\n",
    "    for word in words:\n",
    "        if word in dic:\n",
    "            dic[word] += 1\n",
    "        else:\n",
    "            dic[word] = 1\n",
    "    print(\"Count the number of words:\")\n",
    "    for word, count in dic.items():\n",
    "        print(f\"{word} -> {count}.\")\n"
   ]
  },
  {
   "cell_type": "code",
   "execution_count": null,
   "id": "1d090a8f",
   "metadata": {},
   "outputs": [
    {
     "name": "stdout",
     "output_type": "stream",
     "text": [
      "[1, 2, 3, 4, 5, 6, 7]\n"
     ]
    }
   ],
   "source": [
    "# Task 12\n",
    "try:\n",
    "    list1 = [1, 2, 3, 4, 5, 6, 7]\n",
    "    list2 = ['a', 'b', 's']\n",
    "    with open('students.csv', 'w') as file:\n",
    "        # If list contained from numbers\n",
    "        file.write(','.join(str(i)for i in list1))\n",
    "        # If list contained from string\n",
    "        for letter in list2:\n",
    "            file.write(letter + ',' + ' ')\n",
    "\n",
    "except FileNotFoundError:\n",
    "    print(\"File doesn't exist\")"
   ]
  },
  {
   "cell_type": "code",
   "execution_count": 32,
   "id": "937a712e",
   "metadata": {},
   "outputs": [
    {
     "name": "stdout",
     "output_type": "stream",
     "text": [
      "Data copied successfuly\n"
     ]
    }
   ],
   "source": [
    "# Task 13\n",
    "try:\n",
    "    with open('students.csv', 'r') as source:\n",
    "        data = source.read()\n",
    "\n",
    "    with open('copy_data.txt', 'w') as d1:\n",
    "        d1.write(data)\n",
    "    print('Data copied successfuly')\n",
    "except FileNotFoundError:\n",
    "    print(\"File not found\")"
   ]
  },
  {
   "cell_type": "code",
   "execution_count": 34,
   "id": "2b25a4fe",
   "metadata": {},
   "outputs": [
    {
     "name": "stdout",
     "output_type": "stream",
     "text": [
      "Data copied successfuly\n"
     ]
    }
   ],
   "source": [
    "# Task 14\n",
    "\n",
    "try:\n",
    "    with open('students.csv', 'r') as f1, open('copy_data.txt', 'r') as f2, open('combined.txt', 'w') as combined:\n",
    "        # remove lines and zip for files\n",
    "        for line1, line2 in zip(f1, f2):\n",
    "            line1 = line1.strip()\n",
    "            line2 = line2.strip()\n",
    "            combined_line = line1 + ' ' + line2 + '\\n'\n",
    "            combined.write(combined_line)\n",
    "\n",
    "    print('Data copied successfuly')\n",
    "except FileNotFoundError:\n",
    "    print(\"File not found\")"
   ]
  },
  {
   "cell_type": "code",
   "execution_count": null,
   "id": "002ae3fa",
   "metadata": {},
   "outputs": [],
   "source": [
    "# Task 15\n",
    "import random\n",
    "\n",
    "try:\n",
    "    with open('sample.txt', 'r') as file:\n",
    "        lines = file.readlines()  # Read all lines into a list\n",
    "\n",
    "    if lines:\n",
    "        random_line = random.choice(lines)  # Pick a random line\n",
    "        print(\"Random line:\", random_line.strip())\n",
    "    else:\n",
    "        print(\"The file is empty.\")\n",
    "\n",
    "except FileNotFoundError:\n",
    "    print(\"The file does not exist.\")\n",
    "except Exception as e:\n",
    "    print(\"An error occurred:\", e)\n"
   ]
  },
  {
   "cell_type": "code",
   "execution_count": 36,
   "id": "09b75301",
   "metadata": {},
   "outputs": [
    {
     "name": "stdout",
     "output_type": "stream",
     "text": [
      "Is the file closed? False\n",
      "Is the file closed now? True\n"
     ]
    }
   ],
   "source": [
    "try:\n",
    "    file = open('combined.txt', 'r')\n",
    "    print(\"Is the file closed?\", file.closed)  # Should print False\n",
    "\n",
    "    file.close()  # Close the file\n",
    "    print(\"Is the file closed now?\", file.closed)  # Should print True\n",
    "\n",
    "except FileNotFoundError:\n",
    "    print(\"The file does not exist.\")\n",
    "except Exception as e:\n",
    "    print(\"An error occurred:\", e)\n"
   ]
  },
  {
   "cell_type": "code",
   "execution_count": null,
   "id": "eaaa67cc",
   "metadata": {},
   "outputs": [],
   "source": [
    "try:\n",
    "    # Read the content without newlines\n",
    "    with open('input.txt', 'r') as infile:\n",
    "        content = infile.read().replace('\\n', '')\n",
    "\n",
    "    # Write the cleaned content to a new file\n",
    "    with open('output.txt', 'w') as outfile:\n",
    "        outfile.write(content)\n",
    "\n",
    "    print(\"Newline characters removed and saved to 'output.txt'.\")\n",
    "\n",
    "except FileNotFoundError:\n",
    "    print(\"The input file does not exist.\")\n",
    "except Exception as e:\n",
    "    print(\"An error occurred:\", e)\n"
   ]
  },
  {
   "cell_type": "code",
   "execution_count": 37,
   "id": "6a1446ca",
   "metadata": {},
   "outputs": [
    {
     "name": "stdout",
     "output_type": "stream",
     "text": [
      "Number of words in the file: 3\n"
     ]
    }
   ],
   "source": [
    "import re\n",
    "\n",
    "def count_words_in_file(file_path):\n",
    "    try:\n",
    "        with open(file_path, 'r') as file:\n",
    "            text = file.read()\n",
    "            \n",
    "        # Use regular expression to split text by non-word characters (like spaces, commas, etc.)\n",
    "        words = re.findall(r'\\b\\w+\\b', text)  # \\w matches letters, digits, and underscores\n",
    "        return len(words)\n",
    "\n",
    "    except FileNotFoundError:\n",
    "        print(\"The file does not exist.\")\n",
    "        return 0\n",
    "    except Exception as e:\n",
    "        print(f\"An error occurred: {e}\")\n",
    "        return 0\n",
    "\n",
    "# Example usage\n",
    "file_path = 'copy_data.txt'  # Replace with the path to your file\n",
    "word_count = count_words_in_file(file_path)\n",
    "print(f\"Number of words in the file: {word_count}\")\n"
   ]
  },
  {
   "cell_type": "code",
   "execution_count": 38,
   "id": "53001531",
   "metadata": {},
   "outputs": [
    {
     "name": "stdout",
     "output_type": "stream",
     "text": [
      "['a', ',', '\\n', 'b', ',', '\\n', 's', ',', ' ', 'a', ',', '\\n', 'b', ',', ' ', '\\n', 's', ',', ' ']\n"
     ]
    }
   ],
   "source": [
    "def extract_characters_from_files(file_paths):\n",
    "    characters = []\n",
    "    \n",
    "    try:\n",
    "        for file_path in file_paths:\n",
    "            with open(file_path, 'r') as file:\n",
    "                content = file.read()\n",
    "                # Append each character from the content to the list\n",
    "                characters.extend(list(content))\n",
    "                \n",
    "        return characters\n",
    "\n",
    "    except FileNotFoundError:\n",
    "        print(\"One or more files do not exist.\")\n",
    "        return []\n",
    "    except Exception as e:\n",
    "        print(f\"An error occurred: {e}\")\n",
    "        return []\n",
    "\n",
    "# Example usage\n",
    "file_paths = ['students.csv', 'copy_data.txt']  # Replace with your actual file paths\n",
    "chars_list = extract_characters_from_files(file_paths)\n",
    "\n",
    "# Print the list of characters\n",
    "print(chars_list)\n"
   ]
  },
  {
   "cell_type": "code",
   "execution_count": null,
   "id": "b4308210",
   "metadata": {},
   "outputs": [],
   "source": [
    "def generate_text_files():\n",
    "    try:\n",
    "        for letter in range(65, 91):  # ASCII values for A (65) to Z (90)\n",
    "            file_name = f\"{chr(letter)}.txt\"  # Generate file name (e.g., 'A.txt', 'B.txt')\n",
    "            \n",
    "            with open(file_name, 'w') as file:\n",
    "                file.write(f\"This is the content of {chr(letter)}.txt\")  # Example content\n",
    "            \n",
    "            print(f\"Created file: {file_name}\")\n",
    "    \n",
    "    except Exception as e:\n",
    "        print(f\"An error occurred: {e}\")\n",
    "\n",
    "# Generate the text files\n",
    "generate_text_files()\n",
    "\n"
   ]
  },
  {
   "cell_type": "code",
   "execution_count": 40,
   "id": "331e4593",
   "metadata": {},
   "outputs": [
    {
     "name": "stdout",
     "output_type": "stream",
     "text": [
      "File 'alphabet.txt' created successfully!\n"
     ]
    }
   ],
   "source": [
    "def create_alphabet_file(filename, letters_per_line):\n",
    "    alphabet = 'ABCDEFGHIJKLMNOPQRSTUVWXYZ'  # English alphabet\n",
    "    lines = []\n",
    "    \n",
    "    # Split the alphabet into chunks of the specified number of letters per line\n",
    "    for i in range(0, len(alphabet), letters_per_line):\n",
    "        lines.append(alphabet[i:i + letters_per_line])\n",
    "    \n",
    "    try:\n",
    "        with open(filename, 'w') as file:\n",
    "            for line in lines:\n",
    "                file.write(line + '\\n')  # Write each line followed by a newline\n",
    "        \n",
    "        print(f\"File '{filename}' created successfully!\")\n",
    "    \n",
    "    except Exception as e:\n",
    "        print(f\"An error occurred: {e}\")\n",
    "\n",
    "# Example usage\n",
    "filename = 'alphabet.txt'  # File where the alphabet will be saved\n",
    "letters_per_line = 5  # Specify the number of letters per line\n",
    "create_alphabet_file(filename, letters_per_line)\n"
   ]
  }
 ],
 "metadata": {
  "kernelspec": {
   "display_name": "Python 3",
   "language": "python",
   "name": "python3"
  },
  "language_info": {
   "codemirror_mode": {
    "name": "ipython",
    "version": 3
   },
   "file_extension": ".py",
   "mimetype": "text/x-python",
   "name": "python",
   "nbconvert_exporter": "python",
   "pygments_lexer": "ipython3",
   "version": "3.13.2"
  }
 },
 "nbformat": 4,
 "nbformat_minor": 5
}
